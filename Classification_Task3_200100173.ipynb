{
 "cells": [
  {
   "cell_type": "markdown",
   "metadata": {
    "id": "7C5rAxwPGDQf"
   },
   "source": [
    "# Importing useful libraries"
   ]
  },
  {
   "cell_type": "code",
   "execution_count": 27,
   "metadata": {
    "id": "8qvrslgsF4Mn"
   },
   "outputs": [],
   "source": [
    "import numpy as np\n",
    "import pandas as pd \n",
    "from pandas import Series, DataFrame\n",
    "import sklearn\n",
    "import seaborn as sns\n",
    "import matplotlib.pyplot as plt\n",
    "%matplotlib inline"
   ]
  },
  {
   "cell_type": "markdown",
   "metadata": {
    "id": "6aYOLI2BHF6m"
   },
   "source": [
    "## Loading the dataset.\n",
    "The dataset can be found [here](https://github.com/shreedharmalpani/Intro-To-ML-Hello-FOSS/blob/main/iris.csv)"
   ]
  },
  {
   "cell_type": "code",
   "execution_count": 28,
   "metadata": {
    "id": "_hccks2pF4Mq"
   },
   "outputs": [],
   "source": [
    "df = pd.read_csv(\"iris.csv\")"
   ]
  },
  {
   "cell_type": "code",
   "execution_count": 29,
   "metadata": {
    "id": "um0L09IOF4Ms"
   },
   "outputs": [
    {
     "data": {
      "text/html": [
       "<div>\n",
       "<style scoped>\n",
       "    .dataframe tbody tr th:only-of-type {\n",
       "        vertical-align: middle;\n",
       "    }\n",
       "\n",
       "    .dataframe tbody tr th {\n",
       "        vertical-align: top;\n",
       "    }\n",
       "\n",
       "    .dataframe thead th {\n",
       "        text-align: right;\n",
       "    }\n",
       "</style>\n",
       "<table border=\"1\" class=\"dataframe\">\n",
       "  <thead>\n",
       "    <tr style=\"text-align: right;\">\n",
       "      <th></th>\n",
       "      <th>sepal_length</th>\n",
       "      <th>sepal_width</th>\n",
       "      <th>petal_length</th>\n",
       "      <th>petal_width</th>\n",
       "      <th>species</th>\n",
       "    </tr>\n",
       "  </thead>\n",
       "  <tbody>\n",
       "    <tr>\n",
       "      <th>0</th>\n",
       "      <td>5.1</td>\n",
       "      <td>3.5</td>\n",
       "      <td>1.4</td>\n",
       "      <td>0.2</td>\n",
       "      <td>setosa</td>\n",
       "    </tr>\n",
       "    <tr>\n",
       "      <th>1</th>\n",
       "      <td>4.9</td>\n",
       "      <td>3.0</td>\n",
       "      <td>1.4</td>\n",
       "      <td>0.2</td>\n",
       "      <td>setosa</td>\n",
       "    </tr>\n",
       "    <tr>\n",
       "      <th>2</th>\n",
       "      <td>4.7</td>\n",
       "      <td>3.2</td>\n",
       "      <td>1.3</td>\n",
       "      <td>0.2</td>\n",
       "      <td>setosa</td>\n",
       "    </tr>\n",
       "    <tr>\n",
       "      <th>3</th>\n",
       "      <td>4.6</td>\n",
       "      <td>3.1</td>\n",
       "      <td>1.5</td>\n",
       "      <td>0.2</td>\n",
       "      <td>setosa</td>\n",
       "    </tr>\n",
       "    <tr>\n",
       "      <th>4</th>\n",
       "      <td>5.0</td>\n",
       "      <td>3.6</td>\n",
       "      <td>1.4</td>\n",
       "      <td>0.2</td>\n",
       "      <td>setosa</td>\n",
       "    </tr>\n",
       "    <tr>\n",
       "      <th>...</th>\n",
       "      <td>...</td>\n",
       "      <td>...</td>\n",
       "      <td>...</td>\n",
       "      <td>...</td>\n",
       "      <td>...</td>\n",
       "    </tr>\n",
       "    <tr>\n",
       "      <th>145</th>\n",
       "      <td>6.7</td>\n",
       "      <td>3.0</td>\n",
       "      <td>5.2</td>\n",
       "      <td>2.3</td>\n",
       "      <td>virginica</td>\n",
       "    </tr>\n",
       "    <tr>\n",
       "      <th>146</th>\n",
       "      <td>6.3</td>\n",
       "      <td>2.5</td>\n",
       "      <td>5.0</td>\n",
       "      <td>1.9</td>\n",
       "      <td>virginica</td>\n",
       "    </tr>\n",
       "    <tr>\n",
       "      <th>147</th>\n",
       "      <td>6.5</td>\n",
       "      <td>3.0</td>\n",
       "      <td>5.2</td>\n",
       "      <td>2.0</td>\n",
       "      <td>virginica</td>\n",
       "    </tr>\n",
       "    <tr>\n",
       "      <th>148</th>\n",
       "      <td>6.2</td>\n",
       "      <td>3.4</td>\n",
       "      <td>5.4</td>\n",
       "      <td>2.3</td>\n",
       "      <td>virginica</td>\n",
       "    </tr>\n",
       "    <tr>\n",
       "      <th>149</th>\n",
       "      <td>5.9</td>\n",
       "      <td>3.0</td>\n",
       "      <td>5.1</td>\n",
       "      <td>1.8</td>\n",
       "      <td>virginica</td>\n",
       "    </tr>\n",
       "  </tbody>\n",
       "</table>\n",
       "<p>150 rows × 5 columns</p>\n",
       "</div>"
      ],
      "text/plain": [
       "     sepal_length  sepal_width  petal_length  petal_width    species\n",
       "0             5.1          3.5           1.4          0.2     setosa\n",
       "1             4.9          3.0           1.4          0.2     setosa\n",
       "2             4.7          3.2           1.3          0.2     setosa\n",
       "3             4.6          3.1           1.5          0.2     setosa\n",
       "4             5.0          3.6           1.4          0.2     setosa\n",
       "..            ...          ...           ...          ...        ...\n",
       "145           6.7          3.0           5.2          2.3  virginica\n",
       "146           6.3          2.5           5.0          1.9  virginica\n",
       "147           6.5          3.0           5.2          2.0  virginica\n",
       "148           6.2          3.4           5.4          2.3  virginica\n",
       "149           5.9          3.0           5.1          1.8  virginica\n",
       "\n",
       "[150 rows x 5 columns]"
      ]
     },
     "execution_count": 29,
     "metadata": {},
     "output_type": "execute_result"
    }
   ],
   "source": [
    "df"
   ]
  },
  {
   "cell_type": "code",
   "execution_count": 30,
   "metadata": {
    "id": "cbx8gP4zF4Mt"
   },
   "outputs": [
    {
     "name": "stdout",
     "output_type": "stream",
     "text": [
      "<class 'pandas.core.frame.DataFrame'>\n",
      "RangeIndex: 150 entries, 0 to 149\n",
      "Data columns (total 5 columns):\n",
      " #   Column        Non-Null Count  Dtype  \n",
      "---  ------        --------------  -----  \n",
      " 0   sepal_length  150 non-null    float64\n",
      " 1   sepal_width   150 non-null    float64\n",
      " 2   petal_length  150 non-null    float64\n",
      " 3   petal_width   150 non-null    float64\n",
      " 4   species       150 non-null    object \n",
      "dtypes: float64(4), object(1)\n",
      "memory usage: 6.0+ KB\n"
     ]
    }
   ],
   "source": [
    "df.info() "
   ]
  },
  {
   "cell_type": "markdown",
   "metadata": {
    "id": "vjH1pAqoJna2"
   },
   "source": [
    "# Data Cleaning & Data Visualization"
   ]
  },
  {
   "cell_type": "markdown",
   "metadata": {
    "id": "PNfSyZF1F4Mu"
   },
   "source": [
    "### 1) Remove unneeded columns\n",
    "### 2) Check for duplicate rows \n",
    "### 2) Check for rows with missing values\n"
   ]
  },
  {
   "cell_type": "code",
   "execution_count": 31,
   "metadata": {
    "id": "HKFsVhubF4Mx"
   },
   "outputs": [
    {
     "data": {
      "text/html": [
       "<div>\n",
       "<style scoped>\n",
       "    .dataframe tbody tr th:only-of-type {\n",
       "        vertical-align: middle;\n",
       "    }\n",
       "\n",
       "    .dataframe tbody tr th {\n",
       "        vertical-align: top;\n",
       "    }\n",
       "\n",
       "    .dataframe thead th {\n",
       "        text-align: right;\n",
       "    }\n",
       "</style>\n",
       "<table border=\"1\" class=\"dataframe\">\n",
       "  <thead>\n",
       "    <tr style=\"text-align: right;\">\n",
       "      <th></th>\n",
       "      <th>sepal_length</th>\n",
       "      <th>sepal_width</th>\n",
       "      <th>petal_length</th>\n",
       "      <th>petal_width</th>\n",
       "      <th>species</th>\n",
       "    </tr>\n",
       "  </thead>\n",
       "  <tbody>\n",
       "    <tr>\n",
       "      <th>0</th>\n",
       "      <td>5.1</td>\n",
       "      <td>3.5</td>\n",
       "      <td>1.4</td>\n",
       "      <td>0.2</td>\n",
       "      <td>setosa</td>\n",
       "    </tr>\n",
       "    <tr>\n",
       "      <th>1</th>\n",
       "      <td>4.9</td>\n",
       "      <td>3.0</td>\n",
       "      <td>1.4</td>\n",
       "      <td>0.2</td>\n",
       "      <td>setosa</td>\n",
       "    </tr>\n",
       "    <tr>\n",
       "      <th>2</th>\n",
       "      <td>4.7</td>\n",
       "      <td>3.2</td>\n",
       "      <td>1.3</td>\n",
       "      <td>0.2</td>\n",
       "      <td>setosa</td>\n",
       "    </tr>\n",
       "    <tr>\n",
       "      <th>3</th>\n",
       "      <td>4.6</td>\n",
       "      <td>3.1</td>\n",
       "      <td>1.5</td>\n",
       "      <td>0.2</td>\n",
       "      <td>setosa</td>\n",
       "    </tr>\n",
       "    <tr>\n",
       "      <th>4</th>\n",
       "      <td>5.0</td>\n",
       "      <td>3.6</td>\n",
       "      <td>1.4</td>\n",
       "      <td>0.2</td>\n",
       "      <td>setosa</td>\n",
       "    </tr>\n",
       "  </tbody>\n",
       "</table>\n",
       "</div>"
      ],
      "text/plain": [
       "   sepal_length  sepal_width  petal_length  petal_width species\n",
       "0           5.1          3.5           1.4          0.2  setosa\n",
       "1           4.9          3.0           1.4          0.2  setosa\n",
       "2           4.7          3.2           1.3          0.2  setosa\n",
       "3           4.6          3.1           1.5          0.2  setosa\n",
       "4           5.0          3.6           1.4          0.2  setosa"
      ]
     },
     "execution_count": 31,
     "metadata": {},
     "output_type": "execute_result"
    }
   ],
   "source": [
    "#code\n",
    "df.isna().sum() # found no missing entry\n",
    "df = df.dropna(how = \"any\", axis=0)\n",
    "df = df.drop_duplicates(keep = 'first')\n",
    "df = df.reset_index(drop = True)\n",
    "df.head()"
   ]
  },
  {
   "cell_type": "markdown",
   "metadata": {
    "id": "L1cnZS5XF4M2"
   },
   "source": [
    "### EDA (Exploratory Data Analysis) with Iris"
   ]
  },
  {
   "cell_type": "code",
   "execution_count": 32,
   "metadata": {
    "id": "DjsnhAraF4M7",
    "outputId": "d8d58921-fa2f-4d75-c884-268986342894"
   },
   "outputs": [
    {
     "data": {
      "image/png": "[encoded data removed]",
      "text/plain": [
       "<Figure size 720x504 with 1 Axes>"
      ]
     },
     "metadata": {
      "needs_background": "light"
     },
     "output_type": "display_data"
    }
   ],
   "source": [
    "##Displaying a scatter plot to show the distribution of Pepal Length vs width the dataset\n",
    "\n",
    "fig = df[df.species == 'setosa'].plot(kind='scatter', x='petal_length', y='petal_width', color='orange', label='Setosa')\n",
    "df[df.species == 'versicolor'].plot(kind='scatter', x='petal_length', y='petal_width', color='blue', label='Versicolor', ax=fig)\n",
    "df[df.species == 'virginica'].plot(kind='scatter', x='petal_length', y='petal_width', color='green', label='Virginica', ax=fig)\n",
    "\n",
    "fig.set_xlabel('Petal Length')\n",
    "fig.set_ylabel('Petal Width')\n",
    "fig.set_title('Petal Length and Width comparison')\n",
    "\n",
    "fig=plt.gcf()\n",
    "fig.set_size_inches(10, 7)\n",
    "plt.show()"
   ]
  },
  {
   "cell_type": "code",
   "execution_count": 33,
   "metadata": {
    "id": "O_eYByFvF4M5",
    "outputId": "b7404bc7-4879-482e-ca9d-8d9680a8f6a7"
   },
   "outputs": [
    {
     "data": {
      "image/png": "[encoded data removed]",
      "text/plain": [
       "<Figure size 720x504 with 1 Axes>"
      ]
     },
     "metadata": {
      "needs_background": "light"
     },
     "output_type": "display_data"
    }
   ],
   "source": [
    "#Display a scatter plot to show the distribution of Sepal Length vs width the dataset (Like previous Petal lenght vs width scatter plot)\n",
    "\n",
    "\n",
    "#code\n",
    "\n",
    "fig = df[df.species == 'setosa'].plot(kind='scatter', x='sepal_length', y='sepal_width', color='orange', label='Setosa')\n",
    "df[df.species == 'versicolor'].plot(kind='scatter', x='sepal_length', y='sepal_width', color='blue', label='Versicolor', ax=fig)\n",
    "df[df.species == 'virginica'].plot(kind='scatter', x='sepal_length', y='sepal_width', color='green', label='Virginica', ax=fig)\n",
    "\n",
    "fig.set_xlabel('Sepal Length')\n",
    "fig.set_ylabel('Sepal Width')\n",
    "fig.set_title('Sepal Length and Width comparison')\n",
    "\n",
    "fig=plt.gcf()\n",
    "fig.set_size_inches(10, 7)\n",
    "plt.show()\n",
    "#example plot"
   ]
  },
  {
   "cell_type": "code",
   "execution_count": 34,
   "metadata": {
    "id": "EIh_yKQAF4M6",
    "outputId": "91706df0-4dd1-4a8b-92e7-41e04e6e602d"
   },
   "outputs": [
    {
     "data": {
      "text/plain": [
       "<seaborn.axisgrid.FacetGrid at 0x253d7432fd0>"
      ]
     },
     "execution_count": 34,
     "metadata": {},
     "output_type": "execute_result"
    },
    {
     "data": {
      "image/png": "[encoded data removed]",
      "text/plain": [
       "<Figure size 300.75x216 with 1 Axes>"
      ]
     },
     "metadata": {
      "needs_background": "light"
     },
     "output_type": "display_data"
    },
    {
     "data": {
      "image/png": "[encoded data removed]",
      "text/plain": [
       "<Figure size 300.75x216 with 1 Axes>"
      ]
     },
     "metadata": {
      "needs_background": "light"
     },
     "output_type": "display_data"
    }
   ],
   "source": [
    "#plot the FacetGrid plot using the seaborn library\n",
    "plot_s = sns.FacetGrid(df, hue='species') \n",
    "plot_s.map_dataframe(sns.scatterplot, x=\"sepal_length\", y=\"sepal_width\")\n",
    "plot_s.add_legend() \n",
    "\n",
    "plot_p = sns.FacetGrid(df, hue='species')  \n",
    "plot_p.map_dataframe(sns.scatterplot, x=\"petal_length\", y=\"petal_width\") \n",
    "plot_p.add_legend()"
   ]
  },
  {
   "cell_type": "code",
   "execution_count": 35,
   "metadata": {
    "id": "yadZQxoKF4M8",
    "outputId": "639d4b96-87a7-45d0-f358-ef061d08d230"
   },
   "outputs": [
    {
     "data": {
      "image/png": "[encoded data removed]",
      "text/plain": [
       "<Figure size 432x288 with 1 Axes>"
      ]
     },
     "metadata": {
      "needs_background": "light"
     },
     "output_type": "display_data"
    },
    {
     "data": {
      "image/png": "[encoded data removed]",
      "text/plain": [
       "<Figure size 432x288 with 1 Axes>"
      ]
     },
     "metadata": {
      "needs_background": "light"
     },
     "output_type": "display_data"
    },
    {
     "data": {
      "image/png": "[encoded data removed]",
      "text/plain": [
       "<Figure size 432x288 with 1 Axes>"
      ]
     },
     "metadata": {
      "needs_background": "light"
     },
     "output_type": "display_data"
    },
    {
     "data": {
      "image/png": "[encoded data removed]",
      "text/plain": [
       "<Figure size 432x288 with 1 Axes>"
      ]
     },
     "metadata": {
      "needs_background": "light"
     },
     "output_type": "display_data"
    }
   ],
   "source": [
    "#Plot the distritbution of the features using histgram\n",
    "columns=df.columns\n",
    "for column in columns:\n",
    "    if column!='species':\n",
    "        df.hist(column)\n",
    "    "
   ]
  },
  {
   "cell_type": "markdown",
   "metadata": {
    "id": "xb-AFaG3PU0D"
   },
   "source": [
    "## Importing alll the necessary packages to use the various classification algorithms\n"
   ]
  },
  {
   "cell_type": "code",
   "execution_count": 36,
   "metadata": {
    "id": "cJVjbgAjF4M_"
   },
   "outputs": [],
   "source": [
    "from sklearn.linear_model import LogisticRegression # for Logistic Regression Algorithm\n",
    "from sklearn.model_selection import train_test_split # to split the dataset for training and testing \n",
    "from sklearn import svm # for suport vector machine algorithm\n",
    "from sklearn import metrics # for checking the model accuracy\n",
    "from sklearn.tree import DecisionTreeClassifier # for using DTA\n",
    "from sklearn import preprocessing"
   ]
  },
  {
   "cell_type": "code",
   "execution_count": 37,
   "metadata": {
    "id": "8LizCSuWF4NA"
   },
   "outputs": [
    {
     "data": {
      "text/plain": [
       "(147, 5)"
      ]
     },
     "execution_count": 37,
     "metadata": {},
     "output_type": "execute_result"
    }
   ],
   "source": [
    "df.shape"
   ]
  },
  {
   "cell_type": "markdown",
   "metadata": {
    "id": "WW5Hp1fFF4NC"
   },
   "source": [
    "Now, when we train any algorithm, the number of features and their correlation plays an important role. If there are features and many of the features are highly correlated, then training an algorithm with all the featues will reduce the accuracy. Thus features selection should be done carefully. This dataset has less featues but still we will see the correlation.\n"
   ]
  },
  {
   "cell_type": "code",
   "execution_count": 38,
   "metadata": {
    "id": "YABeXMklF4ND",
    "outputId": "a212e140-712f-4e6f-f8f4-b6664bf29ff1"
   },
   "outputs": [
    {
     "data": {
      "image/png": "[encoded data removed]",
      "text/plain": [
       "<Figure size 576x288 with 2 Axes>"
      ]
     },
     "metadata": {
      "needs_background": "light"
     },
     "output_type": "display_data"
    }
   ],
   "source": [
    "plt.figure(figsize=(8,4))\n",
    "sns.heatmap(df.corr(), annot=True, cmap='cubehelix_r') # draws heatmap with input as correlation matrix calculated by df.corr() \n",
    "plt.show()"
   ]
  },
  {
   "cell_type": "markdown",
   "metadata": {
    "id": "gsd6QaoaF4NE"
   },
   "source": [
    "Observation--->\n",
    "The Sepal Width and Length are not correlated The Petal Width and Length are highly correlated\n",
    "We will use all the features for training the algorithm and check the accuracy.\n",
    "\n",
    "Then we will use 1 Petal Feature and 1 Sepal Feature to check the accuracy of the algorithm as we are using only 2 features that are not correlated. Thus we can have a variance in the dataset which may help in better accuracy. We will check it later.\n",
    "\n",
    "Steps To Be followed When Applying an Algorithm\n",
    "\n",
    "Split the dataset into training and testing dataset. The testing dataset is generally smaller than training one as it will help in training the model better.\n",
    "\n",
    "Select any algorithm based on the problem (classification or regression) whatever you feel may be good.\n",
    "Then pass the training dataset to the algorithm to train it. We use the .fit() method\n",
    "Then pass the testing data to the trained algorithm to predict the outcome. We use the .predict() method.\n",
    "We then check the accuracy by passing the predicted outcome and the actual output to the model."
   ]
  },
  {
   "cell_type": "markdown",
   "metadata": {
    "id": "QAD_cNirF4NF"
   },
   "source": [
    "# Splitting The Data into Training And Testing Dataset"
   ]
  },
  {
   "cell_type": "code",
   "execution_count": 39,
   "metadata": {},
   "outputs": [
    {
     "name": "stdout",
     "output_type": "stream",
     "text": [
      "(102, 5)\n",
      "(45, 5)\n"
     ]
    }
   ],
   "source": [
    "train, test = train_test_split(df, test_size=0.3) # our main data split into train and test\n",
    "# the attribute test_size=0.3 splits the data into 70% and 30% ratio. train=70% and test=30%\n",
    "print(train.shape)\n",
    "print(test.shape)"
   ]
  },
  {
   "cell_type": "code",
   "execution_count": 40,
   "metadata": {
    "id": "yO2J2FpjF4NG"
   },
   "outputs": [],
   "source": [
    "train_X = train[['sepal_length','sepal_width','petal_length','petal_width']] # taking the training data features\n",
    "train_y = train.species # output of the training data\n",
    "\n",
    "test_X = test[['sepal_length','sepal_width','petal_length','petal_width']] # taking test data feature\n",
    "test_y = test.species # output value of the test data"
   ]
  },
  {
   "cell_type": "code",
   "execution_count": 41,
   "metadata": {
    "id": "yR9D2qgQF4NG"
   },
   "outputs": [],
   "source": [
    "scaler = preprocessing.StandardScaler().fit(train_X)\n",
    "train_X_copy = scaler.transform(train_X)"
   ]
  },
  {
   "cell_type": "code",
   "execution_count": 42,
   "metadata": {
    "id": "KcGbNGkcF4NH"
   },
   "outputs": [
    {
     "data": {
      "text/html": [
       "<div>\n",
       "<style scoped>\n",
       "    .dataframe tbody tr th:only-of-type {\n",
       "        vertical-align: middle;\n",
       "    }\n",
       "\n",
       "    .dataframe tbody tr th {\n",
       "        vertical-align: top;\n",
       "    }\n",
       "\n",
       "    .dataframe thead th {\n",
       "        text-align: right;\n",
       "    }\n",
       "</style>\n",
       "<table border=\"1\" class=\"dataframe\">\n",
       "  <thead>\n",
       "    <tr style=\"text-align: right;\">\n",
       "      <th></th>\n",
       "      <th>sepal_length</th>\n",
       "      <th>sepal_width</th>\n",
       "      <th>petal_length</th>\n",
       "      <th>petal_width</th>\n",
       "    </tr>\n",
       "  </thead>\n",
       "  <tbody>\n",
       "    <tr>\n",
       "      <th>135</th>\n",
       "      <td>6.4</td>\n",
       "      <td>3.1</td>\n",
       "      <td>5.5</td>\n",
       "      <td>1.8</td>\n",
       "    </tr>\n",
       "    <tr>\n",
       "      <th>13</th>\n",
       "      <td>4.3</td>\n",
       "      <td>3.0</td>\n",
       "      <td>1.1</td>\n",
       "      <td>0.1</td>\n",
       "    </tr>\n",
       "    <tr>\n",
       "      <th>6</th>\n",
       "      <td>4.6</td>\n",
       "      <td>3.4</td>\n",
       "      <td>1.4</td>\n",
       "      <td>0.3</td>\n",
       "    </tr>\n",
       "    <tr>\n",
       "      <th>50</th>\n",
       "      <td>6.9</td>\n",
       "      <td>3.1</td>\n",
       "      <td>4.9</td>\n",
       "      <td>1.5</td>\n",
       "    </tr>\n",
       "    <tr>\n",
       "      <th>45</th>\n",
       "      <td>4.6</td>\n",
       "      <td>3.2</td>\n",
       "      <td>1.4</td>\n",
       "      <td>0.2</td>\n",
       "    </tr>\n",
       "  </tbody>\n",
       "</table>\n",
       "</div>"
      ],
      "text/plain": [
       "     sepal_length  sepal_width  petal_length  petal_width\n",
       "135           6.4          3.1           5.5          1.8\n",
       "13            4.3          3.0           1.1          0.1\n",
       "6             4.6          3.4           1.4          0.3\n",
       "50            6.9          3.1           4.9          1.5\n",
       "45            4.6          3.2           1.4          0.2"
      ]
     },
     "execution_count": 42,
     "metadata": {},
     "output_type": "execute_result"
    }
   ],
   "source": [
    "scaler = preprocessing.StandardScaler().fit(test_X)\n",
    "test_X_copy = scaler.transform(test_X)\n",
    "test_X.head()"
   ]
  },
  {
   "cell_type": "code",
   "execution_count": 43,
   "metadata": {
    "id": "5sFmts-IF4NI"
   },
   "outputs": [
    {
     "data": {
      "text/plain": [
       "69     versicolor\n",
       "35         setosa\n",
       "96     versicolor\n",
       "49     versicolor\n",
       "105     virginica\n",
       "Name: species, dtype: object"
      ]
     },
     "execution_count": 43,
     "metadata": {},
     "output_type": "execute_result"
    }
   ],
   "source": [
    "train_y.head()"
   ]
  },
  {
   "cell_type": "markdown",
   "metadata": {
    "id": "S_w4Me2bF4NL"
   },
   "source": [
    "## Logistic Regression "
   ]
  },
  {
   "cell_type": "code",
   "execution_count": 44,
   "metadata": {
    "id": "gOQ5JrqrF4NL"
   },
   "outputs": [
    {
     "name": "stdout",
     "output_type": "stream",
     "text": [
      "The accuracy of Logistic Regression is:  0.8\n"
     ]
    }
   ],
   "source": [
    "model_1 = LogisticRegression(random_state=0)\n",
    "model_1.fit(train_X_copy, train_y)\n",
    "prediction_lr = model_1.predict(test_X_copy)\n",
    "print('The accuracy of Logistic Regression is: ', metrics.accuracy_score(prediction_lr, test_y))"
   ]
  },
  {
   "cell_type": "markdown",
   "metadata": {
    "id": "e1NNX-EGF4NJ"
   },
   "source": [
    "## Support Vector Machine SVM"
   ]
  },
  {
   "cell_type": "code",
   "execution_count": 45,
   "metadata": {
    "id": "zSJmVzqnF4NK"
   },
   "outputs": [
    {
     "name": "stdout",
     "output_type": "stream",
     "text": [
      "The accuracy of Support Vector Machine is:  0.9333333333333333\n"
     ]
    }
   ],
   "source": [
    "#implement using Support Vector Machine (SVM)\n",
    "#code\n",
    "model_2 = svm.SVC(kernel='rbf')\n",
    "model_2.fit(train_X, train_y)\n",
    "prediction_SVM = model_2.predict(test_X)\n",
    "print('The accuracy of Support Vector Machine is: ', metrics.accuracy_score(prediction_SVM, test_y))"
   ]
  },
  {
   "cell_type": "markdown",
   "metadata": {
    "id": "GWfemKzPF4NN"
   },
   "source": [
    "## Decision Tree"
   ]
  },
  {
   "cell_type": "code",
   "execution_count": 46,
   "metadata": {
    "id": "iRXy3EZIF4NN",
    "outputId": "f470e075-fc92-4f3f-c343-7a8257e2c5d2"
   },
   "outputs": [
    {
     "name": "stdout",
     "output_type": "stream",
     "text": [
      "The accuracy of Decision Tree is:  0.8444444444444444\n"
     ]
    }
   ],
   "source": [
    "#implementing using Decision Tree\n",
    "#code\n",
    "model_3 = DecisionTreeClassifier(random_state=0)\n",
    "model_3.fit(train_X, train_y)\n",
    "prediction_DT = model_3.predict(test_X)\n",
    "\n",
    "print('The accuracy of Decision Tree is: ', metrics.accuracy_score(prediction_DT, test_y))"
   ]
  },
  {
   "cell_type": "markdown",
   "metadata": {
    "id": "uB2Co6f_F4NQ"
   },
   "source": [
    "### We used all the features of iris in above models. Now we will use Petals and Sepals Seperately"
   ]
  },
  {
   "cell_type": "markdown",
   "metadata": {
    "id": "1_v6cAZMF4NQ"
   },
   "source": [
    "### Creating Petals And Sepals Training Data"
   ]
  },
  {
   "cell_type": "code",
   "execution_count": 47,
   "metadata": {
    "id": "e1Q-1b9YF4NQ"
   },
   "outputs": [],
   "source": [
    "petal = df[['petal_length','petal_width','species']]\n",
    "sepal = df[['sepal_length','sepal_width','species']]"
   ]
  },
  {
   "cell_type": "markdown",
   "metadata": {
    "id": "Lv-nab5oF4NQ"
   },
   "source": [
    "### For Iris Petal"
   ]
  },
  {
   "cell_type": "code",
   "execution_count": 48,
   "metadata": {
    "id": "DuOqLUWZF4NQ"
   },
   "outputs": [],
   "source": [
    "train_p,test_p = train_test_split(petal, test_size=0.3, random_state=0) #petals\n",
    "train_x_p = train_p[['petal_length','petal_width']] \n",
    "train_y_p = train_p.species  \n",
    "\n",
    "test_x_p = test_p[['petal_length','petal_width']]\n",
    "test_y_p = test_p.species   "
   ]
  },
  {
   "cell_type": "markdown",
   "metadata": {
    "id": "bgNB8kaNF4NU"
   },
   "source": [
    "### For Iris Sepal"
   ]
  },
  {
   "cell_type": "code",
   "execution_count": 49,
   "metadata": {
    "id": "6hVj5MW3F4NU"
   },
   "outputs": [],
   "source": [
    "#Similarly define the split for sepals\n",
    "#define the training and test data's Sepal features followed by the output of the training and test data\n",
    "train_s,test_s = train_test_split(sepal, test_size=0.3, random_state=0)\n",
    "train_x_s = train_s[['sepal_length','sepal_width']]  \n",
    "train_y_s = train_s.species \n",
    "test_x_s = test_s[['sepal_length','sepal_width']]  \n",
    "test_y_s = test_s.species  \n",
    "#code"
   ]
  },
  {
   "cell_type": "markdown",
   "metadata": {
    "id": "y08e1O6aU9mx"
   },
   "source": [
    "Implementing the algorithms just like we did on the complete dataset but separately on sepals and petals and calculating accuracy"
   ]
  },
  {
   "cell_type": "markdown",
   "metadata": {
    "id": "TeMWnQr6F4NV"
   },
   "source": [
    "## SVM Algorithm"
   ]
  },
  {
   "cell_type": "code",
   "execution_count": 50,
   "metadata": {
    "id": "jhlutJ78F4NV"
   },
   "outputs": [
    {
     "name": "stdout",
     "output_type": "stream",
     "text": [
      "The accuracy of the SVM using Petals is: 1.0\n",
      "The accuracy of the SVM using Sepals is: 0.8\n"
     ]
    }
   ],
   "source": [
    "model_pl_SVM = svm.SVC(kernel='rbf')\n",
    "model_pl_SVM.fit(train_x_p, train_y_p)\n",
    "prediction_SVM_pl = model_pl_SVM.predict(test_x_p)\n",
    "print('The accuracy of the SVM using Petals is:',metrics.accuracy_score(prediction_SVM_pl,test_y_p))\n",
    "\n",
    "model_sl_SVM = svm.SVC(kernel='rbf')\n",
    "model_sl_SVM.fit(train_x_s, train_y_s)\n",
    "prediction_SVM_sl = model_sl_SVM.predict(test_x_s)\n",
    "print('The accuracy of the SVM using Sepals is:',metrics.accuracy_score(prediction_SVM_sl,test_y_s))"
   ]
  },
  {
   "cell_type": "markdown",
   "metadata": {
    "id": "Mli7zcq_F4NV"
   },
   "source": [
    "## Logistic Regression"
   ]
  },
  {
   "cell_type": "code",
   "execution_count": 51,
   "metadata": {
    "id": "2DqK_dFCF4NV"
   },
   "outputs": [
    {
     "name": "stdout",
     "output_type": "stream",
     "text": [
      "The accuracy of the Logistic Regression using Petals is: 1.0\n",
      "The accuracy of the Logistic Regression using Sepals is: 0.7777777777777778\n"
     ]
    }
   ],
   "source": [
    "model_pl_LR = LogisticRegression()\n",
    "model_pl_LR.fit(train_x_p, train_y_p)\n",
    "prediction_LR_pl = model_pl_LR.predict(test_x_p)\n",
    "print('The accuracy of the Logistic Regression using Petals is:',metrics.accuracy_score(prediction_LR_pl,test_y_p))\n",
    "\n",
    "model_sl_LR = LogisticRegression()\n",
    "model_sl_LR.fit(train_x_s, train_y_s)\n",
    "prediction_LR_sl = model_sl_LR.predict(test_x_s)\n",
    "print('The accuracy of the Logistic Regression using Sepals is:',metrics.accuracy_score(prediction_LR_sl,test_y_s))"
   ]
  },
  {
   "cell_type": "markdown",
   "metadata": {
    "id": "aM-7Zx95F4NW"
   },
   "source": [
    "## Decision Tree"
   ]
  },
  {
   "cell_type": "code",
   "execution_count": 52,
   "metadata": {
    "id": "S8tXp-gMF4NW"
   },
   "outputs": [
    {
     "name": "stdout",
     "output_type": "stream",
     "text": [
      "The accuracy of the Decision Tree using Petals is: 1.0\n",
      "The accuracy of the Decision Tree using Sepals is: 0.7111111111111111\n"
     ]
    }
   ],
   "source": [
    "model_pl_DT = DecisionTreeClassifier(random_state=0)\n",
    "model_pl_DT.fit(train_x_p, train_y_p)\n",
    "prediction_DT_pl = model_pl_DT.predict(test_x_p)\n",
    "print('The accuracy of the Decision Tree using Petals is:',metrics.accuracy_score(prediction_DT_pl,test_y_p))\n",
    "\n",
    "model_sl_DT = DecisionTreeClassifier(random_state=0)\n",
    "model_sl_DT.fit(train_x_s, train_y_s)\n",
    "prediction_DT_sl = model_sl_DT.predict(test_x_s)\n",
    "print('The accuracy of the Decision Tree using Sepals is:',metrics.accuracy_score(prediction_DT_sl,test_y_s))"
   ]
  },
  {
   "cell_type": "markdown",
   "metadata": {
    "id": "6ec0NUyJF4NW"
   },
   "source": [
    "\n",
    "\n",
    "\n",
    "### Question:\n",
    "Does Using Petals over Sepals for training the data give a much better accuracy? Why?\n",
    "Ans: Yes, petals data have given much better accuracy becuase as we can see that petals data is much correlated as compared to sepals data is hence it helps our machine learning model to easily identify patterns in training set which may occur and help our ml model to deal easliy with new data since."
   ]
  }
 ],
 "metadata": {
  "colab": {
   "name": "Classification_Task3.ipynb",
   "provenance": []
  },
  "kernelspec": {
   "display_name": "Python 3",
   "language": "python",
   "name": "python3"
  },
  "language_info": {
   "codemirror_mode": {
    "name": "ipython",
    "version": 3
   },
   "file_extension": ".py",
   "mimetype": "text/x-python",
   "name": "python",
   "nbconvert_exporter": "python",
   "pygments_lexer": "ipython3",
   "version": "3.8.8"
  }
 },
 "nbformat": 4,
 "nbformat_minor": 1
}
