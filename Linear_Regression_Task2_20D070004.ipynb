{
 "cells": [
  {
   "cell_type": "markdown",
   "id": "89223f98",
   "metadata": {},
   "source": [
    "### Importing useful libraries \n"
   ]
  },
  {
   "cell_type": "code",
   "execution_count": 259,
   "id": "26f77ebe",
   "metadata": {},
   "outputs": [],
   "source": [
    "# This Python 3 environment comes with many helpful analytics libraries installed\n",
    "# For example, here's several helpful packages to load in\n",
    "import numpy as np   # linear algebra\n",
    "import matplotlib.pyplot as plt # data visualization\n",
    "import pandas as pd  # data processing, CSV file I/O (e.g. pd.read_csv)\n",
    "import seaborn as sns"
   ]
  },
  {
   "cell_type": "markdown",
   "id": "31c8220d",
   "metadata": {},
   "source": [
    "### Loading the dataset \n",
    "#### For implementation we will be using house prediction dataset . The dataset can be found [here](https://github.com/vrinda01go/Hellofoss/blob/main/Room_price_data.csv)"
   ]
  },
  {
   "cell_type": "code",
   "execution_count": 260,
   "id": "1c5d873a",
   "metadata": {},
   "outputs": [],
   "source": [
    "df = pd.read_csv(\"Hostel_Linear-Dataset.csv\")  #import text file \n"
   ]
  },
  {
   "cell_type": "code",
   "execution_count": 261,
   "id": "1ca9aba0",
   "metadata": {},
   "outputs": [
    {
     "data": {
      "text/html": [
       "<div>\n",
       "<style scoped>\n",
       "    .dataframe tbody tr th:only-of-type {\n",
       "        vertical-align: middle;\n",
       "    }\n",
       "\n",
       "    .dataframe tbody tr th {\n",
       "        vertical-align: top;\n",
       "    }\n",
       "\n",
       "    .dataframe thead th {\n",
       "        text-align: right;\n",
       "    }\n",
       "</style>\n",
       "<table border=\"1\" class=\"dataframe\">\n",
       "  <thead>\n",
       "    <tr style=\"text-align: right;\">\n",
       "      <th></th>\n",
       "      <th>Price</th>\n",
       "      <th>Hostel No.</th>\n",
       "      <th>Occupancy</th>\n",
       "      <th>Room Size</th>\n",
       "      <th>Floor</th>\n",
       "    </tr>\n",
       "  </thead>\n",
       "  <tbody>\n",
       "    <tr>\n",
       "      <th>0</th>\n",
       "      <td>2540.0</td>\n",
       "      <td>3</td>\n",
       "      <td>1</td>\n",
       "      <td>686</td>\n",
       "      <td>8</td>\n",
       "    </tr>\n",
       "    <tr>\n",
       "      <th>1</th>\n",
       "      <td>2900.0</td>\n",
       "      <td>3</td>\n",
       "      <td>2</td>\n",
       "      <td>966</td>\n",
       "      <td>5</td>\n",
       "    </tr>\n",
       "    <tr>\n",
       "      <th>2</th>\n",
       "      <td>NaN</td>\n",
       "      <td>3</td>\n",
       "      <td>1</td>\n",
       "      <td>788</td>\n",
       "      <td>8</td>\n",
       "    </tr>\n",
       "    <tr>\n",
       "      <th>3</th>\n",
       "      <td>2362.0</td>\n",
       "      <td>3</td>\n",
       "      <td>2</td>\n",
       "      <td>924</td>\n",
       "      <td>2</td>\n",
       "    </tr>\n",
       "    <tr>\n",
       "      <th>4</th>\n",
       "      <td>NaN</td>\n",
       "      <td>3</td>\n",
       "      <td>2</td>\n",
       "      <td>1098</td>\n",
       "      <td>5</td>\n",
       "    </tr>\n",
       "  </tbody>\n",
       "</table>\n",
       "</div>"
      ],
      "text/plain": [
       "    Price  Hostel No.  Occupancy  Room Size  Floor\n",
       "0  2540.0           3          1        686      8\n",
       "1  2900.0           3          2        966      5\n",
       "2     NaN           3          1        788      8\n",
       "3  2362.0           3          2        924      2\n",
       "4     NaN           3          2       1098      5"
      ]
     },
     "execution_count": 261,
     "metadata": {},
     "output_type": "execute_result"
    }
   ],
   "source": [
    "df.head()"
   ]
  },
  {
   "cell_type": "markdown",
   "id": "af08f245",
   "metadata": {},
   "source": [
    "# Visualizing and Cleaning the data\n",
    "\n",
    "We will now be removing the nan values and identical values from the dataset\n",
    "\n",
    "For seeing if there are nan values in the dataset we will use the isna() function and then to remove them we will use the dropna() function. We will need to set additional parameters like rows and columns in the dropna function depending on the number of nan values present for each column\n",
    "\n",
    "Using the sum() function with isna() function we can get to know the number of missing values in each column"
   ]
  },
  {
   "cell_type": "code",
   "execution_count": 262,
   "id": "2fd4babb",
   "metadata": {},
   "outputs": [
    {
     "data": {
      "text/plain": [
       "Price         1531\n",
       "Hostel No.       0\n",
       "Occupancy        0\n",
       "Room Size        0\n",
       "Floor            0\n",
       "dtype: int64"
      ]
     },
     "execution_count": 262,
     "metadata": {},
     "output_type": "execute_result"
    }
   ],
   "source": [
    "df.isna().sum()\n"
   ]
  },
  {
   "cell_type": "markdown",
   "id": "83ef03c3",
   "metadata": {},
   "source": [
    "After this we will proceed to remove the nan values \n",
    "\n",
    "Since there are not many nan values in the column 'Price' as compared to the number of rows we will remove the rows which have nan values. \n",
    "\n",
    "Reseting the index after removing the nan values and dropping the old index will also be important"
   ]
  },
  {
   "cell_type": "code",
   "execution_count": 263,
   "id": "b65e4503",
   "metadata": {},
   "outputs": [
    {
     "data": {
      "text/html": [
       "<div>\n",
       "<style scoped>\n",
       "    .dataframe tbody tr th:only-of-type {\n",
       "        vertical-align: middle;\n",
       "    }\n",
       "\n",
       "    .dataframe tbody tr th {\n",
       "        vertical-align: top;\n",
       "    }\n",
       "\n",
       "    .dataframe thead th {\n",
       "        text-align: right;\n",
       "    }\n",
       "</style>\n",
       "<table border=\"1\" class=\"dataframe\">\n",
       "  <thead>\n",
       "    <tr style=\"text-align: right;\">\n",
       "      <th></th>\n",
       "      <th>Price</th>\n",
       "      <th>Hostel No.</th>\n",
       "      <th>Occupancy</th>\n",
       "      <th>Room Size</th>\n",
       "      <th>Floor</th>\n",
       "    </tr>\n",
       "  </thead>\n",
       "  <tbody>\n",
       "    <tr>\n",
       "      <th>0</th>\n",
       "      <td>2540.0</td>\n",
       "      <td>3</td>\n",
       "      <td>1</td>\n",
       "      <td>686</td>\n",
       "      <td>8</td>\n",
       "    </tr>\n",
       "    <tr>\n",
       "      <th>1</th>\n",
       "      <td>2900.0</td>\n",
       "      <td>3</td>\n",
       "      <td>2</td>\n",
       "      <td>966</td>\n",
       "      <td>5</td>\n",
       "    </tr>\n",
       "    <tr>\n",
       "      <th>2</th>\n",
       "      <td>2362.0</td>\n",
       "      <td>3</td>\n",
       "      <td>2</td>\n",
       "      <td>924</td>\n",
       "      <td>2</td>\n",
       "    </tr>\n",
       "    <tr>\n",
       "      <th>3</th>\n",
       "      <td>1432.0</td>\n",
       "      <td>2</td>\n",
       "      <td>1</td>\n",
       "      <td>706</td>\n",
       "      <td>3</td>\n",
       "    </tr>\n",
       "    <tr>\n",
       "      <th>4</th>\n",
       "      <td>1702.0</td>\n",
       "      <td>2</td>\n",
       "      <td>2</td>\n",
       "      <td>1038</td>\n",
       "      <td>3</td>\n",
       "    </tr>\n",
       "    <tr>\n",
       "      <th>...</th>\n",
       "      <td>...</td>\n",
       "      <td>...</td>\n",
       "      <td>...</td>\n",
       "      <td>...</td>\n",
       "      <td>...</td>\n",
       "    </tr>\n",
       "    <tr>\n",
       "      <th>5002</th>\n",
       "      <td>1624.0</td>\n",
       "      <td>2</td>\n",
       "      <td>1</td>\n",
       "      <td>674</td>\n",
       "      <td>3</td>\n",
       "    </tr>\n",
       "    <tr>\n",
       "      <th>5003</th>\n",
       "      <td>1470.0</td>\n",
       "      <td>2</td>\n",
       "      <td>1</td>\n",
       "      <td>626</td>\n",
       "      <td>3</td>\n",
       "    </tr>\n",
       "    <tr>\n",
       "      <th>5004</th>\n",
       "      <td>1020.0</td>\n",
       "      <td>3</td>\n",
       "      <td>2</td>\n",
       "      <td>1006</td>\n",
       "      <td>3</td>\n",
       "    </tr>\n",
       "    <tr>\n",
       "      <th>5005</th>\n",
       "      <td>2400.0</td>\n",
       "      <td>2</td>\n",
       "      <td>2</td>\n",
       "      <td>938</td>\n",
       "      <td>1</td>\n",
       "    </tr>\n",
       "    <tr>\n",
       "      <th>5006</th>\n",
       "      <td>950.0</td>\n",
       "      <td>3</td>\n",
       "      <td>2</td>\n",
       "      <td>1053</td>\n",
       "      <td>2</td>\n",
       "    </tr>\n",
       "  </tbody>\n",
       "</table>\n",
       "<p>5007 rows × 5 columns</p>\n",
       "</div>"
      ],
      "text/plain": [
       "       Price  Hostel No.  Occupancy  Room Size  Floor\n",
       "0     2540.0           3          1        686      8\n",
       "1     2900.0           3          2        966      5\n",
       "2     2362.0           3          2        924      2\n",
       "3     1432.0           2          1        706      3\n",
       "4     1702.0           2          2       1038      3\n",
       "...      ...         ...        ...        ...    ...\n",
       "5002  1624.0           2          1        674      3\n",
       "5003  1470.0           2          1        626      3\n",
       "5004  1020.0           3          2       1006      3\n",
       "5005  2400.0           2          2        938      1\n",
       "5006   950.0           3          2       1053      2\n",
       "\n",
       "[5007 rows x 5 columns]"
      ]
     },
     "execution_count": 263,
     "metadata": {},
     "output_type": "execute_result"
    }
   ],
   "source": [
    "df = df.dropna()\n",
    "df = df.reset_index(drop=True)\n",
    "df"
   ]
  },
  {
   "cell_type": "markdown",
   "id": "40784889",
   "metadata": {},
   "source": [
    "Now we can use the drop_duplicate function to remove the duplicate values\n",
    "\n",
    "This function has a parameter calle 'keep' where we specifiy to drop and which value to keep\n",
    "\n",
    "For this excercise we will keep the first values and drop the rest of the duplicates"
   ]
  },
  {
   "cell_type": "code",
   "execution_count": 264,
   "id": "75fa3dc8",
   "metadata": {},
   "outputs": [
    {
     "data": {
      "text/html": [
       "<div>\n",
       "<style scoped>\n",
       "    .dataframe tbody tr th:only-of-type {\n",
       "        vertical-align: middle;\n",
       "    }\n",
       "\n",
       "    .dataframe tbody tr th {\n",
       "        vertical-align: top;\n",
       "    }\n",
       "\n",
       "    .dataframe thead th {\n",
       "        text-align: right;\n",
       "    }\n",
       "</style>\n",
       "<table border=\"1\" class=\"dataframe\">\n",
       "  <thead>\n",
       "    <tr style=\"text-align: right;\">\n",
       "      <th></th>\n",
       "      <th>Price</th>\n",
       "      <th>Hostel No.</th>\n",
       "      <th>Occupancy</th>\n",
       "      <th>Room Size</th>\n",
       "      <th>Floor</th>\n",
       "    </tr>\n",
       "  </thead>\n",
       "  <tbody>\n",
       "    <tr>\n",
       "      <th>0</th>\n",
       "      <td>2540.0</td>\n",
       "      <td>3</td>\n",
       "      <td>1</td>\n",
       "      <td>686</td>\n",
       "      <td>8</td>\n",
       "    </tr>\n",
       "    <tr>\n",
       "      <th>1</th>\n",
       "      <td>2900.0</td>\n",
       "      <td>3</td>\n",
       "      <td>2</td>\n",
       "      <td>966</td>\n",
       "      <td>5</td>\n",
       "    </tr>\n",
       "    <tr>\n",
       "      <th>2</th>\n",
       "      <td>2362.0</td>\n",
       "      <td>3</td>\n",
       "      <td>2</td>\n",
       "      <td>924</td>\n",
       "      <td>2</td>\n",
       "    </tr>\n",
       "    <tr>\n",
       "      <th>3</th>\n",
       "      <td>1432.0</td>\n",
       "      <td>2</td>\n",
       "      <td>1</td>\n",
       "      <td>706</td>\n",
       "      <td>3</td>\n",
       "    </tr>\n",
       "    <tr>\n",
       "      <th>4</th>\n",
       "      <td>1702.0</td>\n",
       "      <td>2</td>\n",
       "      <td>2</td>\n",
       "      <td>1038</td>\n",
       "      <td>3</td>\n",
       "    </tr>\n",
       "    <tr>\n",
       "      <th>...</th>\n",
       "      <td>...</td>\n",
       "      <td>...</td>\n",
       "      <td>...</td>\n",
       "      <td>...</td>\n",
       "      <td>...</td>\n",
       "    </tr>\n",
       "    <tr>\n",
       "      <th>5000</th>\n",
       "      <td>1624.0</td>\n",
       "      <td>2</td>\n",
       "      <td>1</td>\n",
       "      <td>674</td>\n",
       "      <td>3</td>\n",
       "    </tr>\n",
       "    <tr>\n",
       "      <th>5001</th>\n",
       "      <td>1470.0</td>\n",
       "      <td>2</td>\n",
       "      <td>1</td>\n",
       "      <td>626</td>\n",
       "      <td>3</td>\n",
       "    </tr>\n",
       "    <tr>\n",
       "      <th>5002</th>\n",
       "      <td>1020.0</td>\n",
       "      <td>3</td>\n",
       "      <td>2</td>\n",
       "      <td>1006</td>\n",
       "      <td>3</td>\n",
       "    </tr>\n",
       "    <tr>\n",
       "      <th>5003</th>\n",
       "      <td>2400.0</td>\n",
       "      <td>2</td>\n",
       "      <td>2</td>\n",
       "      <td>938</td>\n",
       "      <td>1</td>\n",
       "    </tr>\n",
       "    <tr>\n",
       "      <th>5004</th>\n",
       "      <td>950.0</td>\n",
       "      <td>3</td>\n",
       "      <td>2</td>\n",
       "      <td>1053</td>\n",
       "      <td>2</td>\n",
       "    </tr>\n",
       "  </tbody>\n",
       "</table>\n",
       "<p>5005 rows × 5 columns</p>\n",
       "</div>"
      ],
      "text/plain": [
       "       Price  Hostel No.  Occupancy  Room Size  Floor\n",
       "0     2540.0           3          1        686      8\n",
       "1     2900.0           3          2        966      5\n",
       "2     2362.0           3          2        924      2\n",
       "3     1432.0           2          1        706      3\n",
       "4     1702.0           2          2       1038      3\n",
       "...      ...         ...        ...        ...    ...\n",
       "5000  1624.0           2          1        674      3\n",
       "5001  1470.0           2          1        626      3\n",
       "5002  1020.0           3          2       1006      3\n",
       "5003  2400.0           2          2        938      1\n",
       "5004   950.0           3          2       1053      2\n",
       "\n",
       "[5005 rows x 5 columns]"
      ]
     },
     "execution_count": 264,
     "metadata": {},
     "output_type": "execute_result"
    }
   ],
   "source": [
    "df = df.drop_duplicates(keep='first')\n",
    "df = df.reset_index(drop=True)\n",
    "df"
   ]
  },
  {
   "cell_type": "markdown",
   "id": "a007a33f",
   "metadata": {},
   "source": [
    "For visualizing the data we will first start with looking at the distribution of different columns to see if there are enough number for each category in every column and dropping them if the data is biased for one category more than the other"
   ]
  },
  {
   "cell_type": "code",
   "execution_count": 265,
   "id": "b325df62",
   "metadata": {},
   "outputs": [
    {
     "data": {
      "image/png": "[encoded data removed]",
      "text/plain": [
       "<Figure size 432x288 with 1 Axes>"
      ]
     },
     "metadata": {
      "needs_background": "light"
     },
     "output_type": "display_data"
    },
    {
     "data": {
      "image/png": "[encoded data removed]",
      "text/plain": [
       "<Figure size 432x288 with 1 Axes>"
      ]
     },
     "metadata": {
      "needs_background": "light"
     },
     "output_type": "display_data"
    },
    {
     "data": {
      "image/png": "[encoded data removed]",
      "text/plain": [
       "<Figure size 432x288 with 1 Axes>"
      ]
     },
     "metadata": {
      "needs_background": "light"
     },
     "output_type": "display_data"
    },
    {
     "data": {
      "image/png": "[encoded data removed]",
      "text/plain": [
       "<Figure size 432x288 with 1 Axes>"
      ]
     },
     "metadata": {
      "needs_background": "light"
     },
     "output_type": "display_data"
    },
    {
     "data": {
      "image/png": "[encoded data removed]",
      "text/plain": [
       "<Figure size 432x288 with 1 Axes>"
      ]
     },
     "metadata": {
      "needs_background": "light"
     },
     "output_type": "display_data"
    }
   ],
   "source": [
    "columns = df.columns\n",
    "for column in columns:\n",
    "    df.hist(column)"
   ]
  },
  {
   "cell_type": "markdown",
   "id": "9811a731",
   "metadata": {},
   "source": [
    "We can clearly notice that for the Occupancy column the (occupancy) = 4 has a really low set of data points as compared to others. Hence we can proceed in dropping those rows where the occupancy is 4"
   ]
  },
  {
   "cell_type": "code",
   "execution_count": 266,
   "id": "825783c0",
   "metadata": {},
   "outputs": [],
   "source": [
    "df = df[~df['Occupancy'].isin(['4'])]\n",
    "df = df.reset_index(drop=True)"
   ]
  },
  {
   "cell_type": "code",
   "execution_count": 267,
   "id": "30c64310",
   "metadata": {},
   "outputs": [
    {
     "data": {
      "text/html": [
       "<div>\n",
       "<style scoped>\n",
       "    .dataframe tbody tr th:only-of-type {\n",
       "        vertical-align: middle;\n",
       "    }\n",
       "\n",
       "    .dataframe tbody tr th {\n",
       "        vertical-align: top;\n",
       "    }\n",
       "\n",
       "    .dataframe thead th {\n",
       "        text-align: right;\n",
       "    }\n",
       "</style>\n",
       "<table border=\"1\" class=\"dataframe\">\n",
       "  <thead>\n",
       "    <tr style=\"text-align: right;\">\n",
       "      <th></th>\n",
       "      <th>Price</th>\n",
       "      <th>Hostel No.</th>\n",
       "      <th>Occupancy</th>\n",
       "      <th>Room Size</th>\n",
       "      <th>Floor</th>\n",
       "    </tr>\n",
       "  </thead>\n",
       "  <tbody>\n",
       "    <tr>\n",
       "      <th>0</th>\n",
       "      <td>2540.0</td>\n",
       "      <td>3</td>\n",
       "      <td>1</td>\n",
       "      <td>686</td>\n",
       "      <td>8</td>\n",
       "    </tr>\n",
       "    <tr>\n",
       "      <th>1</th>\n",
       "      <td>2900.0</td>\n",
       "      <td>3</td>\n",
       "      <td>2</td>\n",
       "      <td>966</td>\n",
       "      <td>5</td>\n",
       "    </tr>\n",
       "    <tr>\n",
       "      <th>2</th>\n",
       "      <td>2362.0</td>\n",
       "      <td>3</td>\n",
       "      <td>2</td>\n",
       "      <td>924</td>\n",
       "      <td>2</td>\n",
       "    </tr>\n",
       "    <tr>\n",
       "      <th>3</th>\n",
       "      <td>1432.0</td>\n",
       "      <td>2</td>\n",
       "      <td>1</td>\n",
       "      <td>706</td>\n",
       "      <td>3</td>\n",
       "    </tr>\n",
       "    <tr>\n",
       "      <th>4</th>\n",
       "      <td>1702.0</td>\n",
       "      <td>2</td>\n",
       "      <td>2</td>\n",
       "      <td>1038</td>\n",
       "      <td>3</td>\n",
       "    </tr>\n",
       "  </tbody>\n",
       "</table>\n",
       "</div>"
      ],
      "text/plain": [
       "    Price  Hostel No.  Occupancy  Room Size  Floor\n",
       "0  2540.0           3          1        686      8\n",
       "1  2900.0           3          2        966      5\n",
       "2  2362.0           3          2        924      2\n",
       "3  1432.0           2          1        706      3\n",
       "4  1702.0           2          2       1038      3"
      ]
     },
     "execution_count": 267,
     "metadata": {},
     "output_type": "execute_result"
    }
   ],
   "source": [
    "df.head()"
   ]
  },
  {
   "cell_type": "markdown",
   "id": "f333875b",
   "metadata": {},
   "source": [
    "We will now write the columns between categorical and numerical\n",
    "\n",
    "categorical = Hostel No, occupancy, floor\n",
    "\n",
    "Numerical = price, occupancy, roomsize, floor, hostel No.\n",
    "\n",
    "Remember that we can treat Hostel Number and occupancy as numerical or categorical. For this notebook we will treat them as categorical for data visualization and numerical for the regression"
   ]
  },
  {
   "cell_type": "markdown",
   "id": "0f34ca6a",
   "metadata": {},
   "source": [
    "We will also plot the scatter plots and the correlation map to analyse the relation ships between different numerical columns"
   ]
  },
  {
   "cell_type": "code",
   "execution_count": 268,
   "id": "f4a3ab6e",
   "metadata": {
    "scrolled": false
   },
   "outputs": [],
   "source": [
    "categorical = ['Hostel No.', 'Occupancy', 'Floor']\n",
    "numerical = [ 'Price', 'Room Size']"
   ]
  },
  {
   "cell_type": "code",
   "execution_count": 269,
   "id": "df2b588a",
   "metadata": {},
   "outputs": [
    {
     "data": {
      "image/png": "[encoded data removed]",
      "text/plain": [
       "<Figure size 432x288 with 1 Axes>"
      ]
     },
     "metadata": {
      "needs_background": "light"
     },
     "output_type": "display_data"
    },
    {
     "data": {
      "image/png": "[encoded data removed]",
      "text/plain": [
       "<Figure size 432x288 with 1 Axes>"
      ]
     },
     "metadata": {
      "needs_background": "light"
     },
     "output_type": "display_data"
    }
   ],
   "source": [
    "for column1 in numerical:\n",
    "    for column2 in numerical:\n",
    "        if(column1 != column2):\n",
    "            df.plot(kind='scatter',x=column1,y=column2,color='green')\n",
    "plt.show()"
   ]
  },
  {
   "cell_type": "markdown",
   "id": "625b89a8",
   "metadata": {},
   "source": [
    "We can notice that there are no linear relation present between the numerical columns. Hence no need to drop anything"
   ]
  },
  {
   "cell_type": "markdown",
   "id": "8a7f95fa",
   "metadata": {},
   "source": [
    "Now we will plot box plots of categorical and numerical columns to get more information about the number of outliers and the distrubtion."
   ]
  },
  {
   "cell_type": "code",
   "execution_count": 270,
   "id": "e73f0769",
   "metadata": {},
   "outputs": [
    {
     "data": {
      "image/png": "[encoded data removed]",
      "text/plain": [
       "<Figure size 432x288 with 1 Axes>"
      ]
     },
     "metadata": {
      "needs_background": "light"
     },
     "output_type": "display_data"
    },
    {
     "data": {
      "image/png": "[encoded data removed]",
      "text/plain": [
       "<Figure size 432x288 with 1 Axes>"
      ]
     },
     "metadata": {
      "needs_background": "light"
     },
     "output_type": "display_data"
    },
    {
     "data": {
      "image/png": "[encoded data removed]",
      "text/plain": [
       "<Figure size 432x288 with 1 Axes>"
      ]
     },
     "metadata": {
      "needs_background": "light"
     },
     "output_type": "display_data"
    },
    {
     "data": {
      "image/png": "[encoded data removed]",
      "text/plain": [
       "<Figure size 432x288 with 1 Axes>"
      ]
     },
     "metadata": {
      "needs_background": "light"
     },
     "output_type": "display_data"
    },
    {
     "data": {
      "image/png": "[encoded data removed]",
      "text/plain": [
       "<Figure size 432x288 with 1 Axes>"
      ]
     },
     "metadata": {
      "needs_background": "light"
     },
     "output_type": "display_data"
    },
    {
     "data": {
      "image/png": "[encoded data removed]",
      "text/plain": [
       "<Figure size 432x288 with 1 Axes>"
      ]
     },
     "metadata": {
      "needs_background": "light"
     },
     "output_type": "display_data"
    }
   ],
   "source": [
    "for c in categorical:\n",
    "    for n in numerical:\n",
    "        sns.boxplot(x= c, y= n, data=df)\n",
    "        plt.show()\n",
    "        \n",
    "        "
   ]
  },
  {
   "cell_type": "markdown",
   "id": "a74d69fd",
   "metadata": {},
   "source": [
    "Now that we have analysed our data we can proceed to normalixing our data and regression"
   ]
  },
  {
   "cell_type": "markdown",
   "id": "77d8c6ba",
   "metadata": {},
   "source": [
    "### Importing useful libraries \n"
   ]
  },
  {
   "cell_type": "code",
   "execution_count": 271,
   "id": "fffac537",
   "metadata": {},
   "outputs": [],
   "source": [
    "# This Python 3 environment comes with many helpful analytics libraries installed\n",
    "# For example, here's several helpful packages to load in\n",
    "import numpy as np   # linear algebra\n",
    "import matplotlib.pyplot as plt # data visualization\n",
    "import pandas as pd  # data processing, CSV file I/O (e.g. pd.read_csv)"
   ]
  },
  {
   "cell_type": "markdown",
   "id": "04cd7e4e",
   "metadata": {},
   "source": [
    "### Loading the dataset \n",
    "#### For implementation we will be using house prediction dataset . The dataset can be found [here](https://github.com/vrinda01go/Hellofoss/blob/main/Insti_data.csv)"
   ]
  },
  {
   "cell_type": "code",
   "execution_count": 272,
   "id": "4ac8e74b",
   "metadata": {},
   "outputs": [
    {
     "data": {
      "text/plain": [
       "array([[2.54000000e+03, 3.00000000e+00, 1.00000000e+00, 4.90350250e-01,\n",
       "        8.00000000e+00],\n",
       "       [2.90000000e+03, 3.00000000e+00, 2.00000000e+00, 6.90493209e-01,\n",
       "        5.00000000e+00],\n",
       "       [2.36200000e+03, 3.00000000e+00, 2.00000000e+00, 6.60471766e-01,\n",
       "        2.00000000e+00],\n",
       "       ...,\n",
       "       [1.02000000e+03, 3.00000000e+00, 2.00000000e+00, 7.19085061e-01,\n",
       "        3.00000000e+00],\n",
       "       [2.40000000e+03, 2.00000000e+00, 2.00000000e+00, 6.70478914e-01,\n",
       "        1.00000000e+00],\n",
       "       [9.50000000e+02, 3.00000000e+00, 2.00000000e+00, 7.52680486e-01,\n",
       "        2.00000000e+00]])"
      ]
     },
     "execution_count": 272,
     "metadata": {},
     "output_type": "execute_result"
    }
   ],
   "source": [
    "df['Room Size']=df['Room Size']/max(df['Room Size']) #Otherwise the values will result in out-of-bound conditions\n",
    "data = np.array(df, dtype=float)\n",
    "data"
   ]
  },
  {
   "cell_type": "markdown",
   "id": "627a5a3a",
   "metadata": {},
   "source": [
    "#### Since our dataset has four features i.e Hostel No. , Occupancy, Room Size and Floor ,our hypothesis function becomes\n",
    "### hθ(x) = θ0 + θ1x1 + θ2x2 +θ3x3 + θ4x4\n",
    "#### where x1 ,x2,x3 and x4 are the two features (i.e. size of house and number of rooms)"
   ]
  },
  {
   "cell_type": "markdown",
   "id": "58fdf0fe",
   "metadata": {},
   "source": [
    "### So Your task is to define hypothesis function having 4 features and a corresponding cost function "
   ]
  },
  {
   "cell_type": "code",
   "execution_count": 273,
   "id": "34dc5643",
   "metadata": {},
   "outputs": [],
   "source": [
    "def hypo(arg, x):\n",
    "    hypothesis = np.dot(x, arg)\n",
    "    return hypothesis "
   ]
  },
  {
   "cell_type": "code",
   "execution_count": 274,
   "id": "6fae141b",
   "metadata": {},
   "outputs": [],
   "source": [
    "def cost(arg, x, y):\n",
    "    h = hypo(arg, x)\n",
    "    CostVar = (1/(2*len(y))*np.sum(np.square(h-y)))\n",
    "    return CostVar"
   ]
  },
  {
   "cell_type": "markdown",
   "id": "178eb11f",
   "metadata": {},
   "source": [
    "### Gradient Descent \n",
    "#### So we have our hypothesis function and we have a way of measuring how well it fits into the data. Now we need to estimate the parameters in the hypothesis function. That's where gradient descent comes in.\n",
    "### Your next task is to define gradient descent function having some specific value of learning rate and number of epochs.\n",
    "#### Note that learning rate should be neither very high nor very low .Why?\n",
    "#### Check out exact reason [here](https://towardsdatascience.com/understanding-learning-rates-and-how-it-improves-performance-in-deep-learning-d0d4059c1c10)\n",
    "\n"
   ]
  },
  {
   "cell_type": "code",
   "execution_count": 275,
   "id": "167b5bdc",
   "metadata": {},
   "outputs": [],
   "source": [
    "def gradDescent(arg,x,y,alpha,noOfIter):\n",
    "    length_y=len(y)\n",
    "    costs=[]\n",
    "    for k in range(noOfIter):\n",
    "        h=hypo(arg,x)\n",
    "        arg-=(1/length_y)*alpha*(x.T.dot((h-y)))\n",
    "        costs.append(cost(arg,x,y))\n",
    "        \n",
    "    plt.plot(costs)\n",
    "    plt.xlabel(\"No. of Epochs\")\n",
    "    plt.ylabel(\"Cost\")\n",
    "    plt.show()\n",
    "        \n",
    "    return arg    "
   ]
  },
  {
   "cell_type": "markdown",
   "id": "724e407a",
   "metadata": {},
   "source": [
    "### Now we want to visualize how our cost function varies with number of epochs .So your next task is to plot graph of updated costs vs number of epochs "
   ]
  },
  {
   "cell_type": "markdown",
   "id": "e82f6ebf",
   "metadata": {},
   "source": [
    "#### After plotting above graph you will notice that your cost function decreases with epochs.\n",
    "#### Perfect! This is all what we wanted to seek by doing linear regression. \n",
    "\n",
    "#### Now it's time to test our model on some test data. \n",
    "\n",
    "#### For this you will define a test function that will take as input Hostel No. , Occupancy, Room Size , Floor and the final theta vector that was returned by our linear regression model and will give us the price of the house. Compute it for any set of features given and final value of theta as given by gradient descent function"
   ]
  },
  {
   "cell_type": "code",
   "execution_count": 276,
   "id": "c522bca3",
   "metadata": {},
   "outputs": [
    {
     "data": {
      "image/png": "[encoded data removed]",
      "text/plain": [
       "<Figure size 432x288 with 1 Axes>"
      ]
     },
     "metadata": {
      "needs_background": "light"
     },
     "output_type": "display_data"
    }
   ],
   "source": [
    "x=data[:,1:]\n",
    "x=np.c_[np.ones((len(x),1)),x]\n",
    "y=data[:,0]\n",
    "arg=np.zeros(5)\n",
    "argFinal=gradDescent(arg,x,y,0.0001,1000)"
   ]
  },
  {
   "cell_type": "markdown",
   "id": "947f35b1",
   "metadata": {},
   "source": [
    "#### Now since we have defined all required functions , we can call functions one by one and get our final results .\n",
    "#### Your final task is to use all functions defined above and predict the price of room for some input combinations to check how well your model works."
   ]
  },
  {
   "cell_type": "markdown",
   "id": "06e54ef5",
   "metadata": {},
   "source": [
    "#### You can try playing with different values of alpha and epochs and see which combination gives most accurate results but do lookout for overfitting \n"
   ]
  },
  {
   "cell_type": "code",
   "execution_count": 277,
   "id": "3fc631fd",
   "metadata": {},
   "outputs": [
    {
     "data": {
      "text/html": [
       "<div>\n",
       "<style scoped>\n",
       "    .dataframe tbody tr th:only-of-type {\n",
       "        vertical-align: middle;\n",
       "    }\n",
       "\n",
       "    .dataframe tbody tr th {\n",
       "        vertical-align: top;\n",
       "    }\n",
       "\n",
       "    .dataframe thead th {\n",
       "        text-align: right;\n",
       "    }\n",
       "</style>\n",
       "<table border=\"1\" class=\"dataframe\">\n",
       "  <thead>\n",
       "    <tr style=\"text-align: right;\">\n",
       "      <th></th>\n",
       "      <th>Predicted Costs</th>\n",
       "      <th>Actual Costs</th>\n",
       "    </tr>\n",
       "  </thead>\n",
       "  <tbody>\n",
       "    <tr>\n",
       "      <th>0</th>\n",
       "      <td>3158.123893</td>\n",
       "      <td>2540.0</td>\n",
       "    </tr>\n",
       "    <tr>\n",
       "      <th>1</th>\n",
       "      <td>2354.414613</td>\n",
       "      <td>2900.0</td>\n",
       "    </tr>\n",
       "    <tr>\n",
       "      <th>2</th>\n",
       "      <td>1417.691164</td>\n",
       "      <td>2362.0</td>\n",
       "    </tr>\n",
       "    <tr>\n",
       "      <th>3</th>\n",
       "      <td>1451.210065</td>\n",
       "      <td>1432.0</td>\n",
       "    </tr>\n",
       "    <tr>\n",
       "      <th>4</th>\n",
       "      <td>1584.553944</td>\n",
       "      <td>1702.0</td>\n",
       "    </tr>\n",
       "    <tr>\n",
       "      <th>...</th>\n",
       "      <td>...</td>\n",
       "      <td>...</td>\n",
       "    </tr>\n",
       "    <tr>\n",
       "      <th>4810</th>\n",
       "      <td>1450.154993</td>\n",
       "      <td>1624.0</td>\n",
       "    </tr>\n",
       "    <tr>\n",
       "      <th>4811</th>\n",
       "      <td>1448.572386</td>\n",
       "      <td>1470.0</td>\n",
       "    </tr>\n",
       "    <tr>\n",
       "      <th>4812</th>\n",
       "      <td>1732.174341</td>\n",
       "      <td>1020.0</td>\n",
       "    </tr>\n",
       "    <tr>\n",
       "      <th>4813</th>\n",
       "      <td>957.697733</td>\n",
       "      <td>2400.0</td>\n",
       "    </tr>\n",
       "    <tr>\n",
       "      <th>4814</th>\n",
       "      <td>1421.944421</td>\n",
       "      <td>950.0</td>\n",
       "    </tr>\n",
       "  </tbody>\n",
       "</table>\n",
       "<p>4815 rows × 2 columns</p>\n",
       "</div>"
      ],
      "text/plain": [
       "      Predicted Costs  Actual Costs\n",
       "0         3158.123893        2540.0\n",
       "1         2354.414613        2900.0\n",
       "2         1417.691164        2362.0\n",
       "3         1451.210065        1432.0\n",
       "4         1584.553944        1702.0\n",
       "...               ...           ...\n",
       "4810      1450.154993        1624.0\n",
       "4811      1448.572386        1470.0\n",
       "4812      1732.174341        1020.0\n",
       "4813       957.697733        2400.0\n",
       "4814      1421.944421         950.0\n",
       "\n",
       "[4815 rows x 2 columns]"
      ]
     },
     "metadata": {},
     "output_type": "display_data"
    }
   ],
   "source": [
    "def testFunc(x, y):\n",
    "    display(pd.DataFrame({\"Predicted Costs\":x.dot(argFinal),\"Actual Costs\":y}))\n",
    "testFunc(x, y)"
   ]
  }
 ],
 "metadata": {
  "interpreter": {
   "hash": "4bba1d32cad56bd564e8db7f54bce5a3582261770c0fd88a009216e68a1efe96"
  },
  "kernelspec": {
   "display_name": "Python 3.8.5 64-bit ('base': conda)",
   "name": "python3"
  },
  "language_info": {
   "codemirror_mode": {
    "name": "ipython",
    "version": 3
   },
   "file_extension": ".py",
   "mimetype": "text/x-python",
   "name": "python",
   "nbconvert_exporter": "python",
   "pygments_lexer": "ipython3",
   "version": "3.8.5"
  }
 },
 "nbformat": 4,
 "nbformat_minor": 5
}
